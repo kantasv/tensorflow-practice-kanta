{
  "nbformat": 4,
  "nbformat_minor": 0,
  "metadata": {
    "colab": {
      "name": "kanta face model.ipynb",
      "provenance": []
    },
    "kernelspec": {
      "name": "python3",
      "display_name": "Python 3"
    }
  },
  "cells": [
    {
      "cell_type": "markdown",
      "metadata": {
        "id": "V06m_KUUqLsy",
        "colab_type": "text"
      },
      "source": [
        "# About this notebook\n",
        "Based on Tensorflow's tutorial \n",
        "( https://www.tensorflow.org/tutorials/keras/classification ), I've created a model that identifies the difference between my face and onion images. Keras sequential API is so easy to use: What I've done is basically just prepared and converted images to 28x28 grayscale NumPy arrays. I could learn the basics of Python using the tutorials. Still, there are many things to be desired, but making programs on my own helps me a lot to understand new concepts. I will keep on making models while reading tutorials!\n",
        "\n",
        "**I am going to add comments about what I learned from the making the models. I try not to make just a similar copy of the original tutorials.**\n",
        "\n",
        "**Correct if I'm wrong!**\n",
        "\n",
        "\n",
        "Kanta Yamaoka\n",
        "\n",
        "\n",
        "\n",
        "\n",
        "\n"
      ]
    },
    {
      "cell_type": "markdown",
      "metadata": {
        "id": "cjSUioGuVENC",
        "colab_type": "text"
      },
      "source": [
        "# Importing modules"
      ]
    },
    {
      "cell_type": "code",
      "metadata": {
        "id": "XqJcOXu6VqMO",
        "colab_type": "code",
        "colab": {}
      },
      "source": [
        "import os\n",
        "import tensorflow as tf\n",
        "from tensorflow import keras\n",
        "import matplotlib.pyplot as plt\n",
        "import numpy as np\n",
        "from PIL import Image"
      ],
      "execution_count": 61,
      "outputs": []
    },
    {
      "cell_type": "markdown",
      "metadata": {
        "id": "OAPXUEzrVI6E",
        "colab_type": "text"
      },
      "source": [
        "# Creating folders and uploading datasets"
      ]
    },
    {
      "cell_type": "markdown",
      "metadata": {
        "id": "vUG7HLyrVRpw",
        "colab_type": "text"
      },
      "source": [
        "First, make sure to create the required directories below:"
      ]
    },
    {
      "cell_type": "code",
      "metadata": {
        "id": "OmULmmjrVDkG",
        "colab_type": "code",
        "colab": {}
      },
      "source": [
        "dirNames=['./raw_train_images','./train_images','./test_images']\n",
        "for dirName in dirNames:\n",
        "  if not os.path.exists(dirName):\n",
        "    os.mkdir(dirName)"
      ],
      "execution_count": 62,
      "outputs": []
    },
    {
      "cell_type": "markdown",
      "metadata": {
        "id": "lkrcvKOmVXWN",
        "colab_type": "text"
      },
      "source": [
        "After making sure they exist, please upload Kanta's face images and Onion images to ./train_images"
      ]
    },
    {
      "cell_type": "markdown",
      "metadata": {
        "id": "zQfxjsVoWf3B",
        "colab_type": "text"
      },
      "source": [
        "# Preparing training datasets\n"
      ]
    },
    {
      "cell_type": "code",
      "metadata": {
        "id": "_vgl7BDvf_F-",
        "colab_type": "code",
        "colab": {}
      },
      "source": [
        "# Converts 28x28 jpegs to grayscale 28x28 png\n",
        "# This is because most of the DL tutorials with TF uses this format.\n",
        "# Probably because of the computational costs? \n",
        "for i in range(8):\n",
        "  im = np.array(Image.open('./raw_train_images/{}.jpg'.format(i)).convert('L'))\n",
        "  gr_im= Image.fromarray(im).save('./train_images/{}.png'.format(i))"
      ],
      "execution_count": 63,
      "outputs": []
    },
    {
      "cell_type": "code",
      "metadata": {
        "id": "E-CDR-GWJarj",
        "colab_type": "code",
        "colab": {
          "base_uri": "https://localhost:8080/",
          "height": 285
        },
        "outputId": "22944e27-2dfe-499b-dce8-4fee9edea9ee"
      },
      "source": [
        "# This cell prepares training datasets\n",
        "train_images=[]\n",
        "class_names=['Kanta','Onion']\n",
        "train_labels=np.array([0,0,0,0,1,1,1,1])\n",
        "\n",
        "\n",
        "for i in range(8):\n",
        "  # Normalizes each image's pixel values\n",
        "  im = np.asarray(Image.open('./train_images/{}.png'.format(i))) /255.0\n",
        "  # Adds each image to a list\n",
        "  train_images.append(im)\n",
        "\n",
        "# Converts the list of images into an np array\n",
        "train_images=np.array(train_images)\n",
        "print(train_images.shape)\n",
        "\n",
        "\n",
        "# Displays all the training datasets\n",
        "print('training datasets:')\n",
        "plt.figure(figsize=(10,10))\n",
        "for i in range(8):\n",
        "    plt.subplot(5,5,i+1)\n",
        "    plt.xticks([])\n",
        "    plt.yticks([])\n",
        "    plt.xlabel(class_names[train_labels[i]])\n",
        "    plt.grid(False)\n",
        "    plt.imshow(train_images[i], cmap=plt.cm.binary)\n",
        "\n",
        "plt.show()"
      ],
      "execution_count": 64,
      "outputs": [
        {
          "output_type": "stream",
          "text": [
            "(8, 28, 28)\n",
            "training datasets:\n"
          ],
          "name": "stdout"
        },
        {
          "output_type": "display_data",
          "data": {
            "image/png": "[encoded data removed]",
            "text/plain": [
              "<Figure size 720x720 with 8 Axes>"
            ]
          },
          "metadata": {
            "tags": []
          }
        }
      ]
    },
    {
      "cell_type": "markdown",
      "metadata": {
        "id": "XxtfgCk1XtNd",
        "colab_type": "text"
      },
      "source": [
        "## Oh, BTW, how to deal with images in Python?\n",
        "\n",
        "\n",
        "There are multiple ways to deal with images in Python.\n",
        "\n",
        "For example, the lines below opens converted images using Tensorflow, not PIL:\n",
        "\n",
        "```\n",
        "for i in range(8):\n",
        "  image=tf.io.read_file(filename='./{}.png'.format(i))\n",
        "  image=tf.io.decode_jpeg(image, channels=3)\n",
        "  print(image.shape)\n",
        "  plt.imshow(image)\n",
        "  plt.xticks([])\n",
        "  plt.yticks([])\n",
        "\n",
        "  plt.show()\n",
        "```\n",
        "\n",
        "Note that the line\n",
        "\n",
        "```\n",
        "tf.io.decode_jpeg(image, channels=3)\n",
        "```\n",
        "returns Tensor, not NumPy array.\n",
        "In this notebook, I used NumPy array for images, but you can also use Tensor as image file expression.\n",
        "Please let me know the pros and cons of both an NumPy arary and Tonsor to express images if you know well.\n"
      ]
    },
    {
      "cell_type": "markdown",
      "metadata": {
        "id": "ZzKMAODNW9Rr",
        "colab_type": "text"
      },
      "source": [
        "# Preparing test datasets\n",
        "For simplicity, we're going to extract two images from training datasets as test datasets. **However, this is not appropriate for real situation.** \n",
        "**This notebook only aims to learn the basics of PIL, Keras, Tensorflow, and NumPy, not the best practices of dealing with data.**\n"
      ]
    },
    {
      "cell_type": "code",
      "metadata": {
        "id": "Kh2V0jX-ZXCH",
        "colab_type": "code",
        "colab": {
          "base_uri": "https://localhost:8080/",
          "height": 173
        },
        "outputId": "6c9baa91-e241-47ee-cf44-61a4437d812e"
      },
      "source": [
        "test_images=[]\n",
        "test_labels=np.array([0,1])\n",
        "\n",
        "# You can decide which to extract from the train datasets with the indecies below:\n",
        "extractIndecies=[0,4]\n",
        "for i in extractIndecies:\n",
        "  # Normalizes each image's pixel values\n",
        "  im = np.asarray(Image.open('./train_images/{}.png'.format(i))) /255.0\n",
        "  # Adds each image to a list\n",
        "  test_images.append(im)\n",
        "\n",
        "# Converts the list of images into an np array\n",
        "test_images=np.array(test_images)\n",
        "print(test_images.shape)\n",
        "\n",
        "\n",
        "# Displays all the test datasets\n",
        "print('test datasets:')\n",
        "plt.figure(figsize=(10,10))\n",
        "for i in range(2):\n",
        "    plt.subplot(5,5,i+1)\n",
        "    plt.xticks([])\n",
        "    plt.yticks([])\n",
        "    plt.xlabel(class_names[test_labels[i]])\n",
        "    plt.grid(False)\n",
        "    plt.imshow(test_images[i], cmap=plt.cm.binary)\n",
        "\n",
        "plt.show()\n"
      ],
      "execution_count": 65,
      "outputs": [
        {
          "output_type": "stream",
          "text": [
            "(2, 28, 28)\n",
            "test datasets:\n"
          ],
          "name": "stdout"
        },
        {
          "output_type": "display_data",
          "data": {
            "image/png": "[encoded data removed]",
            "text/plain": [
              "<Figure size 720x720 with 2 Axes>"
            ]
          },
          "metadata": {
            "tags": []
          }
        }
      ]
    },
    {
      "cell_type": "markdown",
      "metadata": {
        "id": "XX3SSmuTH0L9",
        "colab_type": "text"
      },
      "source": [
        " ## What is cmap?\n",
        "You see the argument cmap in the plt.imshow() method:\n",
        " ```\n",
        " cmap=plt.cm.binary\n",
        " ```\n",
        "\n",
        " According to official document, it goes like:\n",
        " ```\n",
        " cmap : str or ~matplotlib.colors.Colormap, optional\n",
        "\n",
        "    The Colormap instance or registered colormap name used to map  \n",
        "    scalar data to colors. This parameter is ignored for RGB(A) data.  \n",
        "    Defaults to :rc:`image.cmap`\n",
        " ```\n",
        "\n",
        "If you delete the arugment, you will see that the overall color of the displayed image will change. This is because different colormap maps pixel values to different colors."
      ]
    },
    {
      "cell_type": "markdown",
      "metadata": {
        "id": "A10GyUsm84qC",
        "colab_type": "text"
      },
      "source": [
        "# Build the model\n",
        "For more details, read the section *Build the model* on: https://www.tensorflow.org/tutorials/keras/classification"
      ]
    },
    {
      "cell_type": "code",
      "metadata": {
        "id": "n65TwyEs57Ep",
        "colab_type": "code",
        "colab": {}
      },
      "source": [
        "model = keras.Sequential([\n",
        "                          keras.layers.Flatten(input_shape=(28,28)),\n",
        "                          keras.layers.Dense(128, activation=\"relu\"),\n",
        "                          keras.layers.Dense(10)\n",
        "])"
      ],
      "execution_count": 66,
      "outputs": []
    },
    {
      "cell_type": "markdown",
      "metadata": {
        "id": "REwBmOsBdS4U",
        "colab_type": "text"
      },
      "source": [
        "## What is Flatten?\n",
        "The flatten method transforms two-dimensional vectors into one-dimensional vectors.\n",
        "\n",
        "## What does the first arugment ***units*** mean?\n",
        "\n",
        "According to the official domunent:\n",
        "```\n",
        " units: Positive integer, dimensionality of the output space. \n",
        "```\n",
        "Sorry, under construction\n",
        "\n",
        "\n",
        "## What is \"relu\" and why we use it?\n",
        "ReLU stands for Recutified Linear Unit.\n",
        "Let f(x) is ReLU.\n",
        "\n",
        ">When x is positive, f(x)=x\n",
        "\n",
        ">Otherwise, f(x)=0\n",
        "\n",
        "* Lower computational costs compared to Sigmoid, for example.\n",
        "* Can solve the ***vanishing gradient problem***\n",
        "https://en.wikipedia.org/wiki/Vanishing_gradient_problem\n",
        "\n",
        "In this case, if we use sigmoid function by\n",
        "```\n",
        "keras.layers.Dense(128,activation=\"sigmoid\")\n",
        "```\n",
        "You will see poorer recognition performance later though the model identefies the difference to some extent.\n",
        "\n",
        "## What is Dense?\n",
        "```\n",
        "keras.layers.Dense()\n",
        "```\n",
        "offers densely connected, or fully connected, neural layers.\n",
        "Unlike the original convolutional neural networks, each layer is connected to many other layers.\n",
        "\n",
        "This article will help you get the concept:\n",
        "https://medium.com/@anilmatcha/summary-for-densely-connected-convolutional-networks-7996dca315ce\n"
      ]
    },
    {
      "cell_type": "markdown",
      "metadata": {
        "id": "ambd8i72sLu3",
        "colab_type": "text"
      },
      "source": [
        "# Compile the model"
      ]
    },
    {
      "cell_type": "code",
      "metadata": {
        "id": "_B5Kg6nkdmjr",
        "colab_type": "code",
        "colab": {}
      },
      "source": [
        "model.compile(optimizer='adam',\n",
        "              loss=tf.keras.losses.SparseCategoricalCrossentropy(from_logits=True),\n",
        "              metrics=['accuracy'])"
      ],
      "execution_count": 67,
      "outputs": []
    },
    {
      "cell_type": "markdown",
      "metadata": {
        "id": "Q1MaJw89dzmj",
        "colab_type": "text"
      },
      "source": [
        "# Train the model"
      ]
    },
    {
      "cell_type": "code",
      "metadata": {
        "id": "taWsUOzZdyEY",
        "colab_type": "code",
        "colab": {
          "base_uri": "https://localhost:8080/",
          "height": 374
        },
        "outputId": "f20ae6ec-8154-4890-eed2-c742dff5543a"
      },
      "source": [
        "model.fit(train_images, train_labels, epochs=10)"
      ],
      "execution_count": 68,
      "outputs": [
        {
          "output_type": "stream",
          "text": [
            "Epoch 1/10\n",
            "1/1 [==============================] - 0s 1ms/step - loss: 2.2952 - accuracy: 0.0000e+00\n",
            "Epoch 2/10\n",
            "1/1 [==============================] - 0s 2ms/step - loss: 1.0459 - accuracy: 1.0000\n",
            "Epoch 3/10\n",
            "1/1 [==============================] - 0s 2ms/step - loss: 0.5852 - accuracy: 1.0000\n",
            "Epoch 4/10\n",
            "1/1 [==============================] - 0s 3ms/step - loss: 0.4316 - accuracy: 1.0000\n",
            "Epoch 5/10\n",
            "1/1 [==============================] - 0s 2ms/step - loss: 0.3479 - accuracy: 1.0000\n",
            "Epoch 6/10\n",
            "1/1 [==============================] - 0s 1ms/step - loss: 0.2938 - accuracy: 1.0000\n",
            "Epoch 7/10\n",
            "1/1 [==============================] - 0s 1ms/step - loss: 0.2506 - accuracy: 1.0000\n",
            "Epoch 8/10\n",
            "1/1 [==============================] - 0s 3ms/step - loss: 0.2095 - accuracy: 1.0000\n",
            "Epoch 9/10\n",
            "1/1 [==============================] - 0s 1ms/step - loss: 0.1775 - accuracy: 1.0000\n",
            "Epoch 10/10\n",
            "1/1 [==============================] - 0s 5ms/step - loss: 0.1520 - accuracy: 1.0000\n"
          ],
          "name": "stdout"
        },
        {
          "output_type": "execute_result",
          "data": {
            "text/plain": [
              "<tensorflow.python.keras.callbacks.History at 0x7f79c3cdecc0>"
            ]
          },
          "metadata": {
            "tags": []
          },
          "execution_count": 68
        }
      ]
    },
    {
      "cell_type": "markdown",
      "metadata": {
        "id": "3oDjz6M8d_n-",
        "colab_type": "text"
      },
      "source": [
        "# Evaluate accuraccy"
      ]
    },
    {
      "cell_type": "code",
      "metadata": {
        "id": "rz6X1g73eCgC",
        "colab_type": "code",
        "colab": {
          "base_uri": "https://localhost:8080/",
          "height": 68
        },
        "outputId": "1cd54d60-47d7-46d7-def7-2eccde7b051e"
      },
      "source": [
        "test_loss, test_acc = model.evaluate(test_images, test_labels, verbose=2)\n",
        "print('\\n Test accuraccy:', test_acc)"
      ],
      "execution_count": 69,
      "outputs": [
        {
          "output_type": "stream",
          "text": [
            "1/1 - 0s - loss: 0.1233 - accuracy: 1.0000\n",
            "\n",
            " Test accuraccy: 1.0\n"
          ],
          "name": "stdout"
        }
      ]
    },
    {
      "cell_type": "markdown",
      "metadata": {
        "id": "OchhUShCeTYK",
        "colab_type": "text"
      },
      "source": [
        "# Make predictions"
      ]
    },
    {
      "cell_type": "code",
      "metadata": {
        "id": "k0JWjh7Gd_LA",
        "colab_type": "code",
        "colab": {}
      },
      "source": [
        "probability_model = tf.keras.Sequential([model, tf.keras.layers.Softmax()])"
      ],
      "execution_count": 70,
      "outputs": []
    },
    {
      "cell_type": "code",
      "metadata": {
        "id": "DdUefzT0ebY8",
        "colab_type": "code",
        "colab": {}
      },
      "source": [
        "predictions = probability_model.predict(test_images)"
      ],
      "execution_count": 71,
      "outputs": []
    },
    {
      "cell_type": "code",
      "metadata": {
        "id": "NXSYfofSei5y",
        "colab_type": "code",
        "colab": {
          "base_uri": "https://localhost:8080/",
          "height": 68
        },
        "outputId": "3f8142fd-452a-4139-be0f-44c343109d8f"
      },
      "source": [
        "predictions[0]"
      ],
      "execution_count": 72,
      "outputs": [
        {
          "output_type": "execute_result",
          "data": {
            "text/plain": [
              "array([9.0746164e-01, 9.2214242e-02, 4.6281508e-05, 1.4852386e-04,\n",
              "       3.5380373e-05, 1.7989865e-05, 1.5049355e-05, 1.7489501e-05,\n",
              "       4.1448591e-05, 1.8810860e-06], dtype=float32)"
            ]
          },
          "metadata": {
            "tags": []
          },
          "execution_count": 72
        }
      ]
    },
    {
      "cell_type": "code",
      "metadata": {
        "id": "M_K4g2EOeoIK",
        "colab_type": "code",
        "colab": {
          "base_uri": "https://localhost:8080/",
          "height": 34
        },
        "outputId": "13cbc9ba-6dbf-4634-f10b-77a81bdd2908"
      },
      "source": [
        "np.argmax(predictions[0])"
      ],
      "execution_count": 73,
      "outputs": [
        {
          "output_type": "execute_result",
          "data": {
            "text/plain": [
              "0"
            ]
          },
          "metadata": {
            "tags": []
          },
          "execution_count": 73
        }
      ]
    },
    {
      "cell_type": "code",
      "metadata": {
        "id": "6Kdp3lWbeuIi",
        "colab_type": "code",
        "colab": {
          "base_uri": "https://localhost:8080/",
          "height": 34
        },
        "outputId": "fa35e24d-59e2-4a4f-a108-43914edb1b0b"
      },
      "source": [
        "test_labels[0]"
      ],
      "execution_count": 74,
      "outputs": [
        {
          "output_type": "execute_result",
          "data": {
            "text/plain": [
              "0"
            ]
          },
          "metadata": {
            "tags": []
          },
          "execution_count": 74
        }
      ]
    },
    {
      "cell_type": "markdown",
      "metadata": {
        "id": "qbLK4zD2ezxq",
        "colab_type": "text"
      },
      "source": [
        "Graph this to look at the full set of 2 class predictions."
      ]
    },
    {
      "cell_type": "code",
      "metadata": {
        "id": "riioFpZ9e5vT",
        "colab_type": "code",
        "colab": {}
      },
      "source": [
        "def plot_image(i, predictions_array, true_label, img):\n",
        "  true_label, img = true_label[i], img[i]\n",
        "  plt.grid(False)\n",
        "  plt.xticks([])\n",
        "  plt.yticks([])\n",
        "  plt.imshow(img, cmap=plt.cm.binary)\n",
        "  predicted_label = np.argmax(predictions_array)\n",
        "  if predicted_label == true_label:\n",
        "    color = 'blue'\n",
        "  else:\n",
        "    color = 'red'\n",
        "  \n",
        "  plt.xlabel('{} {:2.0f}%({})'.format(class_names[predicted_label],\n",
        "                                      100*np.max(predictions_array),\n",
        "                                      class_names[true_label]),\n",
        "                                       color=color)\n",
        "\n",
        "def plot_value_array(i, predictions_array, true_label):\n",
        "  true_label = true_label[i]\n",
        "  plt.grid(False)\n",
        "  plt.xticks(range(2))\n",
        "  plt.yticks([])\n",
        "  thisplot = plt.bar(range(10), predictions_array, color='#777777')\n",
        "  plt.ylim([0,1])\n",
        "  predicted_label = np.argmax(predictions_array)\n",
        "\n",
        "  thisplot[predicted_label].set_color('red')\n",
        "  thisplot[true_label].set_color('blue')\n",
        "  "
      ],
      "execution_count": 75,
      "outputs": []
    },
    {
      "cell_type": "markdown",
      "metadata": {
        "id": "g-Cs3HMvgT3p",
        "colab_type": "text"
      },
      "source": [
        "# Verify predictions"
      ]
    },
    {
      "cell_type": "code",
      "metadata": {
        "id": "psqGmPGngTUq",
        "colab_type": "code",
        "colab": {
          "base_uri": "https://localhost:8080/",
          "height": 513
        },
        "outputId": "26d1dab4-b034-4443-b357-a3c40346f76e"
      },
      "source": [
        "for i in range(2):\n",
        "  plt.figure()\n",
        "  plt.subplot(1,2,1)\n",
        "  plot_image(i, predictions[i], test_labels, test_images)\n",
        "  plt.subplot(1,2,2)\n",
        "  plot_value_array(i, predictions[i], test_labels)\n",
        "  plt.show()"
      ],
      "execution_count": 76,
      "outputs": [
        {
          "output_type": "display_data",
          "data": {
            "image/png": "[encoded data removed]",
            "text/plain": [
              "<Figure size 432x288 with 2 Axes>"
            ]
          },
          "metadata": {
            "tags": [],
            "needs_background": "light"
          }
        },
        {
          "output_type": "display_data",
          "data": {
            "image/png": "[encoded data removed]",
            "text/plain": [
              "<Figure size 432x288 with 2 Axes>"
            ]
          },
          "metadata": {
            "tags": [],
            "needs_background": "light"
          }
        }
      ]
    }
  ]
}